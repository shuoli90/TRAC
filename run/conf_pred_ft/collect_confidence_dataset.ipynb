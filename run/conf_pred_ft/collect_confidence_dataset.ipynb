{
 "cells": [
  {
   "cell_type": "code",
   "execution_count": 1,
   "id": "91cecbf3-4952-4091-b131-8bdc92bcca5c",
   "metadata": {},
   "outputs": [],
   "source": [
    "import os\n",
    "os.environ[\"CUDA_VISIBLE_DEVICES\"]=\"4,5,6,7\"\n",
    "import sys\n",
    "sys.path.insert(0, os.path.abspath(os.path.join(os.path.dirname(__file__), '..')))\n",
    "import tasks\n",
    "from rouge_score import rouge_scorer\n",
    "import numpy as np\n",
    "import torch\n",
    "torch.set_grad_enabled(False)\n",
    "import json"
   ]
  },
  {
   "cell_type": "code",
   "execution_count": 2,
   "id": "a960671f-acf1-44f5-9077-ecdbcb867e8a",
   "metadata": {},
   "outputs": [],
   "source": [
    "import pickle\n",
    "def write_list(a_list, file_name):\n",
    "    # store list in binary file so 'wb' mode\n",
    "    with open(file_name, 'wb') as fp:\n",
    "        pickle.dump(a_list, fp)\n",
    "        print('Done writing list into a binary file')\n",
    "def read_list(file_name):\n",
    "    # for reading also binary mode is important\n",
    "    with open(file_name, 'rb') as fp:\n",
    "        n_list = pickle.load(fp)\n",
    "        return n_list\n",
    "\n",
    "def read_chatgpt_results(task):\n",
    "    retrieved_scores = read_list(f'chatgpt_retrieved_scores_{task}.p')\n",
    "    retrieved_true_scores = read_list(f'chatgpt_retrieved_true_scores_{task}.p')\n",
    "    queries = read_list(f'chatgpt_queries_{task}.p')\n",
    "    answers = read_list(f'chatgpt_answers_{task}.p')\n",
    "    chatgpt_true_scores = read_list(f'chatgpt_true_scores_{task}.p')\n",
    "    chatgpt_answers = read_list(f'chatgpt_answers_{task}.p')\n",
    "    chatgpt_passages = read_list(f'chatgpt_passages_{task}.p')\n",
    "    chatgpt_semantics = read_list(f'chatgpt_semantics_{task}.p')\n",
    "    chatgpt_occurances = read_list(f'chatgpt_occurances_{task}.p')\n",
    "    chatgpt_semantic_ids = read_list(f'chatgpt_semantic_ids_{task}.p')\n",
    "    chatgpt_probs = read_list(f'chatgpt_probs_{task}.p')\n",
    "    feasibilities = read_list(f'chatgpt_feasibilities_{task}.p')\n",
    "    \n",
    "    retrieved_scores_unc = read_list(f'chatgpt_retrieved_scores_unc_{task}.p')\n",
    "    retrieved_true_scores_unc = read_list(f'chatgpt_retrieved_true_scores_unc_{task}.p')\n",
    "    queries_unc = read_list(f'chatgpt_queries_unc_{task}.p')\n",
    "    answers_unc = read_list(f'chatgpt_answers_unc_{task}.p')\n",
    "    passages_unc = read_list(f'chatgpt_passages_unc_{task}.p')\n",
    "    chatgpt_true_scores_unc = read_list(f'chatgpt_true_scores_unc_{task}.p')\n",
    "    chatgpt_answers_unc = read_list(f'chatgpt_answers_unc_{task}.p')\n",
    "    chatgpt_occurances_unc = read_list(f'chatgpt_occurances_unc_{task}.p')\n",
    "    chatgpt_semantic_ids_unc = read_list(f'chatgpt_semantic_ids_unc_{task}.p')\n",
    "    chatgpt_probs_unc = read_list(f'chatgpt_probs_unc_{task}.p')\n",
    "    \n",
    "    return feasibilities, retrieved_scores, retrieved_true_scores, queries, answers, chatgpt_true_scores, chatgpt_answers, chatgpt_passages, chatgpt_semantics, chatgpt_occurances, chatgpt_semantic_ids, chatgpt_probs, retrieved_scores_unc, retrieved_true_scores_unc, queries_unc, answers_unc, passages_unc, chatgpt_true_scores_unc, chatgpt_answers_unc, chatgpt_occurances_unc, chatgpt_semantic_ids_unc, chatgpt_probs_unc"
   ]
  },
  {
   "cell_type": "code",
   "execution_count": 67,
   "id": "8a169289-11f1-416d-8e92-5bf27dd7db8a",
   "metadata": {},
   "outputs": [],
   "source": [
    "task = 'squad1'"
   ]
  },
  {
   "cell_type": "code",
   "execution_count": 68,
   "id": "507fb8ac-2f43-4905-aaf3-25712ca33740",
   "metadata": {},
   "outputs": [],
   "source": [
    "dataset_dpr = tasks.RQA_dpr(task=task)\n",
    "elements = dataset_dpr.elements\n",
    "all_queries = [element['question'] for element in elements]"
   ]
  },
  {
   "cell_type": "code",
   "execution_count": 69,
   "id": "a336dbec-a57f-491f-9cbe-317fe4ebd5d9",
   "metadata": {},
   "outputs": [],
   "source": [
    "feasibilities, retrieved_scores, retrieved_true_scores, queries, answers, chatgpt_true_scores, chatgpt_answers, chatgpt_passages, chatgpt_semantics, chatgpt_occurances, chatgpt_semantic_ids, chatgpt_probs, retrieved_scores_unc, retrieved_true_scores_unc, queries_unc, answers_unc, passages_unc, chatgpt_true_scores_unc, chatgpt_answers_unc, chatgpt_occurances_unc, chatgpt_semantic_ids_unc, chatgpt_probs_unc = \\\n",
    "        read_chatgpt_results(task)"
   ]
  },
  {
   "cell_type": "code",
   "execution_count": 70,
   "id": "91ebc6cf-c7eb-4a0a-948d-8c9e02ded973",
   "metadata": {},
   "outputs": [],
   "source": [
    "query_certain = []\n",
    "passage_certain = []\n",
    "answers_certain = []\n",
    "query_uncertain = []\n",
    "passage_uncertain = []\n",
    "answers_uncertain = []\n",
    "final_index = all_queries.index(queries[-1])\n",
    "for idx, query in enumerate(all_queries[:final_index+1]):\n",
    "    if query in queries:\n",
    "        query_certain.append(query)\n",
    "        element = elements[idx]\n",
    "        ctx = [psg['text'] for psg in element['positive_ctxs']]\n",
    "        passage_certain.append(ctx[0])\n",
    "    else:\n",
    "        query_uncertain.append(query)\n",
    "        element = elements[idx]\n",
    "        ctx = [psg['text'] for psg in element['positive_ctxs']]\n",
    "        if len(ctx) == 0:\n",
    "            continue\n",
    "        passage_uncertain.append(ctx[0])"
   ]
  },
  {
   "cell_type": "code",
   "execution_count": 71,
   "id": "916ce869-5b45-4b44-a910-212558f98095",
   "metadata": {},
   "outputs": [],
   "source": [
    "certain = [{'sentence': query+'[SEP]'+passage, 'label':1} for query, passage in zip(query_certain, passage_certain)]"
   ]
  },
  {
   "cell_type": "code",
   "execution_count": 72,
   "id": "c8587bde-72dc-475f-a2fc-4d3018a59e92",
   "metadata": {},
   "outputs": [],
   "source": [
    "uncertain = [{'sentence': query+'[SEP]'+passage, 'label':0} for query, passage in zip(query_uncertain, passage_uncertain)]"
   ]
  },
  {
   "cell_type": "code",
   "execution_count": 73,
   "id": "2a68be33-fdf0-4351-b4e6-145da816cb20",
   "metadata": {},
   "outputs": [],
   "source": [
    "all = certain + uncertain"
   ]
  },
  {
   "cell_type": "code",
   "execution_count": 74,
   "id": "45e44c6e-90dc-41d4-b598-f075c0daf69e",
   "metadata": {},
   "outputs": [],
   "source": [
    "with open(f\"certain_uncertain_{task}.json\", \"a\") as f:\n",
    "    for line in all:\n",
    "        json.dump(line, f)\n",
    "        f.write('\\n')"
   ]
  },
  {
   "cell_type": "code",
   "execution_count": null,
   "id": "87baeeb9-b0d6-4783-9855-6fe1cd22d5db",
   "metadata": {},
   "outputs": [],
   "source": []
  }
 ],
 "metadata": {
  "kernelspec": {
   "display_name": "Python 3 (ipykernel)",
   "language": "python",
   "name": "python3"
  },
  "language_info": {
   "codemirror_mode": {
    "name": "ipython",
    "version": 3
   },
   "file_extension": ".py",
   "mimetype": "text/x-python",
   "name": "python",
   "nbconvert_exporter": "python",
   "pygments_lexer": "ipython3",
   "version": "3.9.16"
  }
 },
 "nbformat": 4,
 "nbformat_minor": 5
}
